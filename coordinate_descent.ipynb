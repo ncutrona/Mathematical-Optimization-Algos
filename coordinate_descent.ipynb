{
 "cells": [
  {
   "cell_type": "markdown",
   "metadata": {
    "cell_id": "f4322a6a-47b2-48d0-ab6a-9c94d98eab98",
    "deepnote_cell_height": 62,
    "deepnote_cell_type": "text-cell-h3",
    "is_collapsed": false,
    "tags": []
   },
   "source": [
    "### Coordinate Descent &amp; The Lasso Solution"
   ]
  },
  {
   "cell_type": "code",
   "execution_count": 24,
   "metadata": {},
   "outputs": [
    {
     "name": "stdout",
     "output_type": "stream",
     "text": [
      "Collecting pip\n",
      "  Using cached https://files.pythonhosted.org/packages/4d/16/0a14ca596f30316efd412a60bdfac02a7259bf8673d4d917dc60b9a21812/pip-22.0.4-py3-none-any.whl\n",
      "Installing collected packages: pip\n",
      "  Found existing installation: pip 10.0.1\n",
      "    Uninstalling pip-10.0.1:\n",
      "      Successfully uninstalled pip-10.0.1\n",
      "Successfully installed pip-22.0.4\n"
     ]
    }
   ],
   "source": [
    "!pip3 install --upgrade pip"
   ]
  },
  {
   "cell_type": "code",
   "execution_count": 26,
   "metadata": {},
   "outputs": [
    {
     "name": "stdout",
     "output_type": "stream",
     "text": [
      "Collecting sklearn\n",
      "  Using cached sklearn-0.0.tar.gz (1.1 kB)\n",
      "  Preparing metadata (setup.py) ... \u001b[?25ldone\n",
      "\u001b[?25hRequirement already satisfied: scikit-learn in /Library/Frameworks/Python.framework/Versions/3.7/lib/python3.7/site-packages (from sklearn) (1.0.2)\n",
      "Requirement already satisfied: threadpoolctl>=2.0.0 in /Library/Frameworks/Python.framework/Versions/3.7/lib/python3.7/site-packages (from scikit-learn->sklearn) (3.1.0)\n",
      "Requirement already satisfied: numpy>=1.14.6 in /Library/Frameworks/Python.framework/Versions/3.7/lib/python3.7/site-packages (from scikit-learn->sklearn) (1.21.5)\n",
      "Requirement already satisfied: joblib>=0.11 in /Library/Frameworks/Python.framework/Versions/3.7/lib/python3.7/site-packages (from scikit-learn->sklearn) (1.1.0)\n",
      "Requirement already satisfied: scipy>=1.1.0 in /Library/Frameworks/Python.framework/Versions/3.7/lib/python3.7/site-packages (from scikit-learn->sklearn) (1.2.0)\n",
      "Building wheels for collected packages: sklearn\n",
      "  Building wheel for sklearn (setup.py) ... \u001b[?25ldone\n",
      "\u001b[?25h  Created wheel for sklearn: filename=sklearn-0.0-py2.py3-none-any.whl size=1310 sha256=023ea440d08ccf4647d8d255d01d1aed4963a0b9b7981523ae99d3ca1e1add3d\n",
      "  Stored in directory: /Users/nicolascutrona/Library/Caches/pip/wheels/46/ef/c3/157e41f5ee1372d1be90b09f74f82b10e391eaacca8f22d33e\n",
      "Successfully built sklearn\n",
      "Installing collected packages: sklearn\n",
      "Successfully installed sklearn-0.0\n"
     ]
    }
   ],
   "source": [
    "!pip3 install --upgrade sklearn"
   ]
  },
  {
   "cell_type": "code",
   "execution_count": 35,
   "metadata": {},
   "outputs": [
    {
     "name": "stdout",
     "output_type": "stream",
     "text": [
      "0.23.2\n"
     ]
    }
   ],
   "source": [
    "import sklearn\n",
    "print(sklearn.__version__)"
   ]
  },
  {
   "cell_type": "code",
   "execution_count": 28,
   "metadata": {
    "cell_id": "a40041c6-cf55-424a-bd5c-159b8b84b19b",
    "deepnote_cell_height": 153,
    "deepnote_cell_type": "code",
    "deepnote_to_be_reexecuted": false,
    "execution_millis": 2090,
    "execution_start": 1647013995122,
    "source_hash": "a08bb5be",
    "tags": []
   },
   "outputs": [],
   "source": [
    "import pandas as pd\n",
    "import numpy as np\n",
    "from numpy.random import rand\n",
    "from numpy.linalg import inv\n",
    "from sklearn.linear_model import LinearRegression\n",
    "from sklearn.linear_model import Lasso\n",
    "from numpy.linalg import norm"
   ]
  },
  {
   "cell_type": "markdown",
   "metadata": {
    "cell_id": "3f52c9dc-70f1-4a8b-8591-bb21e289b90f",
    "deepnote_cell_height": 128.171875,
    "deepnote_cell_type": "markdown",
    "tags": []
   },
   "source": [
    "**Generating Random Data for Testing**\n",
    "\n",
    "- A 100x50 Matrix, X, drawing randomly from a gaussian distribution. \n",
    "\n",
    "- A 100x1 Vector, y, with values between 0 and 1 with a random distribution."
   ]
  },
  {
   "cell_type": "code",
   "execution_count": 29,
   "metadata": {
    "cell_id": "7fd060d0-1c67-4fda-a9e4-471b0af91a60",
    "deepnote_cell_height": 189,
    "deepnote_cell_type": "code",
    "deepnote_to_be_reexecuted": false,
    "execution_millis": 12,
    "execution_start": 1647013997237,
    "source_hash": "947ae8ac",
    "tags": []
   },
   "outputs": [],
   "source": [
    "#Generating Random Data\n",
    "\n",
    "np.random.seed(42)\n",
    "\n",
    "n = 100\n",
    "p = 50\n",
    "\n",
    "#X Matrix\n",
    "X = np.random.standard_normal(size=(n, p))\n",
    "\n",
    "#y Vector\n",
    "y = rand(n)"
   ]
  },
  {
   "cell_type": "markdown",
   "metadata": {
    "cell_id": "2605f3dd-ffba-4dfe-be1b-c0cbc9cc9cf0",
    "deepnote_cell_height": 62,
    "deepnote_cell_type": "text-cell-h3",
    "is_collapsed": false,
    "tags": []
   },
   "source": [
    "### Traditional Least Squares"
   ]
  },
  {
   "cell_type": "markdown",
   "metadata": {
    "cell_id": "de8d0732-5a25-48ad-9d3d-971d97e02b3e",
    "deepnote_cell_height": 549.5625,
    "deepnote_cell_type": "markdown",
    "tags": []
   },
   "source": [
    "**Least Squares Solution**\n",
    "\n",
    "The following is the derivation and intuition behind the least squares solution for a linear regression, with code to produce the results.\n",
    "\n",
    "![title](figures/least_squares_derivation.png)\n",
    "\n",
    "In the above, **n** is the number of observations, **k** is the k<sup>th</sup> observation, and **p** is the number of variables in the given regression.\n",
    "\n",
    "*The corresponding least square solution code:*"
   ]
  },
  {
   "cell_type": "code",
   "execution_count": 30,
   "metadata": {
    "cell_id": "d5651c51-0c03-4bae-8bfc-d7b7d37eb6ed",
    "deepnote_cell_height": 405,
    "deepnote_cell_type": "code",
    "deepnote_to_be_reexecuted": false,
    "execution_millis": 45,
    "execution_start": 1647013997269,
    "source_hash": "9fd4c881",
    "tags": []
   },
   "outputs": [],
   "source": [
    "#Least Squares Solution\n",
    "\n",
    "# INPUTS\n",
    "\n",
    "#   X: A matrix of variable values from the generated data\n",
    "#   y: A vector of target values corresponding the X matrix\n",
    "\n",
    "# OUTPUTS\n",
    "\n",
    "#   B: A vector of beta coefficients from the least squares solution (Best Linear Estimator)\n",
    "\n",
    "def least_squares(X_matrix, y_vector):\n",
    "    \n",
    "    inverse_term = inv(np.matmul(X_matrix.T,X_matrix))\n",
    "    xy_product_term = np.matmul(X_matrix.T, y_vector)\n",
    "\n",
    "    B = np.matmul(inverse_term, xy_product_term)\n",
    "\n",
    "    return B"
   ]
  },
  {
   "cell_type": "markdown",
   "metadata": {
    "cell_id": "fd80beef-4ac8-4e9a-b7ce-c32ff21dfa97",
    "deepnote_cell_height": 88.78125,
    "deepnote_cell_type": "markdown",
    "tags": []
   },
   "source": [
    "**Results**\n",
    "\n",
    "Getting the best linear estimator beta_hat vector:"
   ]
  },
  {
   "cell_type": "code",
   "execution_count": 31,
   "metadata": {
    "cell_id": "6abba8ff-d0ba-46e1-a18e-849266417925",
    "deepnote_cell_height": 509.375,
    "deepnote_cell_type": "code",
    "deepnote_to_be_reexecuted": false,
    "execution_millis": 147,
    "execution_start": 1647013997356,
    "source_hash": "ff9e6a2c",
    "tags": []
   },
   "outputs": [
    {
     "name": "stdout",
     "output_type": "stream",
     "text": [
      "Best Linear Estimator (Beta-Hat):\n",
      " [-0.06659337 -0.01104815  0.00991661  0.09283588 -0.05955373 -0.02918583\n",
      "  0.00997919 -0.04529953  0.0735396   0.10999968 -0.05427661  0.13462753\n",
      "  0.05801504 -0.11761879  0.19483932  0.05181994 -0.04994695 -0.05230281\n",
      "  0.08729247  0.08676209  0.12100758  0.04357916 -0.03363947 -0.06115235\n",
      " -0.04161027 -0.00957865 -0.05898289  0.10826193  0.07633543  0.03524932\n",
      "  0.12398377 -0.08308396 -0.11316674 -0.03002763 -0.09739807 -0.08739415\n",
      "  0.06077032 -0.02386646  0.02168286  0.03622051 -0.07634741  0.01687032\n",
      " -0.00052492 -0.04278844  0.09959658 -0.0729741   0.06570058 -0.02300355\n",
      "  0.09010428  0.01166315]\n"
     ]
    }
   ],
   "source": [
    "#Getting Least Squares Solution for our Random Data\n",
    "\n",
    "beta_hat_scratch = least_squares(X,y)\n",
    "print(\"Best Linear Estimator (Beta-Hat):\\n\", beta_hat_scratch)"
   ]
  },
  {
   "cell_type": "code",
   "execution_count": 32,
   "metadata": {
    "cell_id": "74aab8be-22bc-4e23-8585-9ece69f0c3bc",
    "deepnote_cell_height": 351,
    "deepnote_cell_type": "code",
    "deepnote_to_be_reexecuted": false,
    "execution_millis": 45,
    "execution_start": 1647013997357,
    "source_hash": "280a7af4",
    "tags": []
   },
   "outputs": [],
   "source": [
    "#SK-Learn Linear Model Solution\n",
    "\n",
    "# INPUTS\n",
    "\n",
    "#   X: A matrix of variable values from the generated data\n",
    "#   y: A vector of target values corresponding the X matrix\n",
    "\n",
    "# OUTPUTS\n",
    "\n",
    "#   model: A linear regression model to extract calculated beta coefficients\n",
    "\n",
    "def linear_model(X_matrix, y_vector):\n",
    "\n",
    "    regression_model = LinearRegression(fit_intercept=False).fit(X_matrix, y_vector)\n",
    "\n",
    "    return regression_model\n",
    "\n",
    "\n",
    "# INPUTS\n",
    "\n",
    "#   X_matrix: A matrix of variable values from the generated data\n",
    "#   y_vector: A vector of target values corresponding the X matrix\n",
    "\n",
    "# OUTPUTS\n",
    "\n",
    "#   model: A linear regression model to extract calculated beta coefficients\n",
    "\n",
    "def linear_model_positive(X_matrix, y_vector):\n",
    "\n",
    "    regression_model = LinearRegression(fit_intercept=False, positive=True).fit(X_matrix, y_vector)\n",
    "\n",
    "    return regression_model\n",
    "\n",
    "\n",
    "# INPUTS\n",
    "\n",
    "#   X_matrix: A matrix of variable values from the generated data\n",
    "#   y_vector: A vector of target values corresponding the X matrix\n",
    "#   a: The Lasso alpha value\n",
    "\n",
    "# OUTPUTS\n",
    "\n",
    "#   model: A linear regression model to extract calculated beta coefficients\n",
    "\n",
    "def lasso_model(X_matrix, y_vector, a):\n",
    "\n",
    "    lasso = Lasso(a, fit_intercept = False)\n",
    "    lasso.fit(X_matrix, y_vector)\n",
    "\n",
    "    return lasso\n",
    "\n",
    "\n",
    "# INPUTS\n",
    "\n",
    "#   X_matrix: A matrix of variable values from the generated data\n",
    "#   y_vector: A vector of target values corresponding the X matrix\n",
    "#   a: The Lasso alpha value\n",
    "\n",
    "# OUTPUTS\n",
    "\n",
    "#   model: A linear regression model to extract calculated beta coefficients\n",
    "\n",
    "def lasso_model_positive(X_matrix, y_vector, a):\n",
    "\n",
    "    lasso = Lasso(a, fit_intercept = False, positive = True)\n",
    "    lasso.fit(X_matrix, y_vector)\n",
    "\n",
    "    return lasso\n",
    "#def lasso\n"
   ]
  },
  {
   "cell_type": "markdown",
   "metadata": {
    "cell_id": "beb214ca-7398-4393-ab92-87568534ea53",
    "deepnote_cell_height": 52.390625,
    "deepnote_cell_type": "markdown",
    "tags": []
   },
   "source": [
    "**Comparing Model Results**\n",
    "\n",
    "Comparing our optimized betas with that of a SK-learn linear model implementation."
   ]
  },
  {
   "cell_type": "code",
   "execution_count": 33,
   "metadata": {
    "cell_id": "56dd8337-cd85-47d0-a2dc-9c2c486543c5",
    "deepnote_cell_height": 99,
    "deepnote_cell_type": "code",
    "deepnote_to_be_reexecuted": false,
    "execution_millis": 0,
    "execution_start": 1647013997403,
    "source_hash": "cd61bd89",
    "tags": []
   },
   "outputs": [],
   "source": [
    "#Getting a Linear Regression Model\n",
    "model = linear_model(X, y)"
   ]
  },
  {
   "cell_type": "code",
   "execution_count": 34,
   "metadata": {
    "cell_id": "108972fb-6aa4-4912-912c-2779d138ec55",
    "deepnote_cell_height": 66,
    "deepnote_cell_type": "code",
    "deepnote_to_be_reexecuted": false,
    "execution_millis": 14,
    "execution_start": 1647013997408,
    "source_hash": "68dcaeb5",
    "tags": []
   },
   "outputs": [
    {
     "ename": "TypeError",
     "evalue": "__init__() got an unexpected keyword argument 'positive'",
     "output_type": "error",
     "traceback": [
      "\u001b[0;31m---------------------------------------------------------------------------\u001b[0m",
      "\u001b[0;31mTypeError\u001b[0m                                 Traceback (most recent call last)",
      "\u001b[0;32m<ipython-input-34-41b1323f1baa>\u001b[0m in \u001b[0;36m<module>\u001b[0;34m\u001b[0m\n\u001b[0;32m----> 1\u001b[0;31m \u001b[0mmodel_positive\u001b[0m \u001b[0;34m=\u001b[0m \u001b[0mlinear_model_positive\u001b[0m\u001b[0;34m(\u001b[0m\u001b[0mX\u001b[0m\u001b[0;34m,\u001b[0m \u001b[0my\u001b[0m\u001b[0;34m)\u001b[0m\u001b[0;34m\u001b[0m\u001b[0;34m\u001b[0m\u001b[0m\n\u001b[0m",
      "\u001b[0;32m<ipython-input-32-cffd851b59ec>\u001b[0m in \u001b[0;36mlinear_model_positive\u001b[0;34m(X_matrix, y_vector)\u001b[0m\n\u001b[1;32m     28\u001b[0m \u001b[0;32mdef\u001b[0m \u001b[0mlinear_model_positive\u001b[0m\u001b[0;34m(\u001b[0m\u001b[0mX_matrix\u001b[0m\u001b[0;34m,\u001b[0m \u001b[0my_vector\u001b[0m\u001b[0;34m)\u001b[0m\u001b[0;34m:\u001b[0m\u001b[0;34m\u001b[0m\u001b[0;34m\u001b[0m\u001b[0m\n\u001b[1;32m     29\u001b[0m \u001b[0;34m\u001b[0m\u001b[0m\n\u001b[0;32m---> 30\u001b[0;31m     \u001b[0mregression_model\u001b[0m \u001b[0;34m=\u001b[0m \u001b[0mLinearRegression\u001b[0m\u001b[0;34m(\u001b[0m\u001b[0mfit_intercept\u001b[0m\u001b[0;34m=\u001b[0m\u001b[0;32mFalse\u001b[0m\u001b[0;34m,\u001b[0m \u001b[0mpositive\u001b[0m\u001b[0;34m=\u001b[0m\u001b[0;32mTrue\u001b[0m\u001b[0;34m)\u001b[0m\u001b[0;34m.\u001b[0m\u001b[0mfit\u001b[0m\u001b[0;34m(\u001b[0m\u001b[0mX_matrix\u001b[0m\u001b[0;34m,\u001b[0m \u001b[0my_vector\u001b[0m\u001b[0;34m)\u001b[0m\u001b[0;34m\u001b[0m\u001b[0;34m\u001b[0m\u001b[0m\n\u001b[0m\u001b[1;32m     31\u001b[0m \u001b[0;34m\u001b[0m\u001b[0m\n\u001b[1;32m     32\u001b[0m     \u001b[0;32mreturn\u001b[0m \u001b[0mregression_model\u001b[0m\u001b[0;34m\u001b[0m\u001b[0;34m\u001b[0m\u001b[0m\n",
      "\u001b[0;32m/Library/Frameworks/Python.framework/Versions/3.8/lib/python3.8/site-packages/sklearn/utils/validation.py\u001b[0m in \u001b[0;36minner_f\u001b[0;34m(*args, **kwargs)\u001b[0m\n\u001b[1;32m     70\u001b[0m                           FutureWarning)\n\u001b[1;32m     71\u001b[0m         \u001b[0mkwargs\u001b[0m\u001b[0;34m.\u001b[0m\u001b[0mupdate\u001b[0m\u001b[0;34m(\u001b[0m\u001b[0;34m{\u001b[0m\u001b[0mk\u001b[0m\u001b[0;34m:\u001b[0m \u001b[0marg\u001b[0m \u001b[0;32mfor\u001b[0m \u001b[0mk\u001b[0m\u001b[0;34m,\u001b[0m \u001b[0marg\u001b[0m \u001b[0;32min\u001b[0m \u001b[0mzip\u001b[0m\u001b[0;34m(\u001b[0m\u001b[0msig\u001b[0m\u001b[0;34m.\u001b[0m\u001b[0mparameters\u001b[0m\u001b[0;34m,\u001b[0m \u001b[0margs\u001b[0m\u001b[0;34m)\u001b[0m\u001b[0;34m}\u001b[0m\u001b[0;34m)\u001b[0m\u001b[0;34m\u001b[0m\u001b[0;34m\u001b[0m\u001b[0m\n\u001b[0;32m---> 72\u001b[0;31m         \u001b[0;32mreturn\u001b[0m \u001b[0mf\u001b[0m\u001b[0;34m(\u001b[0m\u001b[0;34m**\u001b[0m\u001b[0mkwargs\u001b[0m\u001b[0;34m)\u001b[0m\u001b[0;34m\u001b[0m\u001b[0;34m\u001b[0m\u001b[0m\n\u001b[0m\u001b[1;32m     73\u001b[0m     \u001b[0;32mreturn\u001b[0m \u001b[0minner_f\u001b[0m\u001b[0;34m\u001b[0m\u001b[0;34m\u001b[0m\u001b[0m\n\u001b[1;32m     74\u001b[0m \u001b[0;34m\u001b[0m\u001b[0m\n",
      "\u001b[0;31mTypeError\u001b[0m: __init__() got an unexpected keyword argument 'positive'"
     ]
    }
   ],
   "source": [
    "model_positive = linear_model_positive(X, y)"
   ]
  },
  {
   "cell_type": "code",
   "execution_count": null,
   "metadata": {
    "cell_id": "48c8191a-ceb8-461e-a935-1f1972e226ad",
    "deepnote_cell_height": 66,
    "deepnote_cell_type": "code",
    "deepnote_to_be_reexecuted": false,
    "execution_millis": 14,
    "execution_start": 1647013997432,
    "source_hash": "e93bf82f",
    "tags": []
   },
   "outputs": [],
   "source": [
    "lasso = lasso_model(X, y, 1 / n)"
   ]
  },
  {
   "cell_type": "code",
   "execution_count": null,
   "metadata": {
    "cell_id": "a2998492-9d3a-4d73-b22b-37a1ee759507",
    "deepnote_cell_height": 66,
    "deepnote_cell_type": "code",
    "deepnote_to_be_reexecuted": false,
    "execution_millis": 6,
    "execution_start": 1647013997458,
    "source_hash": "1a55f5f7",
    "tags": []
   },
   "outputs": [],
   "source": [
    "lasso_positive = lasso_model_positive(X, y, 1 / n)"
   ]
  },
  {
   "cell_type": "code",
   "execution_count": null,
   "metadata": {
    "cell_id": "e1930591-076f-41d7-bc3c-5a2d9b33e9e0",
    "deepnote_cell_height": 477,
    "deepnote_cell_type": "code",
    "deepnote_to_be_reexecuted": false,
    "execution_millis": 13,
    "execution_start": 1647013997475,
    "source_hash": "3eb7c8e6",
    "tags": []
   },
   "outputs": [],
   "source": [
    "#Function Comparison\n",
    "\n",
    "# INPUTS\n",
    "\n",
    "#   b_hat_scratch: A vector of coefficient values corresponding the X matrix produced by the least squares solution function\n",
    "#   b_hat_sklearn: A vector of coefficients values corresponding the X matrix produced by the linear regression model\n",
    "\n",
    "# OUTPUTS\n",
    "\n",
    "#   Equality Print Statement\n",
    "\n",
    "def beta_vector_comparison(b_hat_scratch, b_hat_sklearn):\n",
    "\n",
    "    #Rounding to avoid conflict\n",
    "    b_hat_scratch = [np.round(coef, decimals=3) for coef in b_hat_scratch]\n",
    "    b_hat_sklearn = [np.round(coef, decimals=3) for coef in b_hat_sklearn]\n",
    "\n",
    "    if(b_hat_scratch == b_hat_sklearn):\n",
    "        print(\"Beta Vectors are Equivalent.\")\n",
    "    \n",
    "    else:\n",
    "        print(\"Beta Vectors are Not Equivalent.\")\n"
   ]
  },
  {
   "cell_type": "code",
   "execution_count": null,
   "metadata": {
    "cell_id": "ec13b3be-053a-4eae-a6b5-00133fa29793",
    "deepnote_cell_height": 166.1875,
    "deepnote_cell_type": "code",
    "deepnote_to_be_reexecuted": false,
    "execution_millis": 44031194,
    "execution_start": 1647013997513,
    "source_hash": "c571b844",
    "tags": []
   },
   "outputs": [],
   "source": [
    "#Beta Stores\n",
    "beta_hat_sklearn = list(model.coef_)\n",
    "beta_hat_scratch = list(beta_hat_scratch)\n",
    "beta_hat_positive_sklearn = list(model_positive.coef_)\n",
    "beta_hat_lasso_sklearn = list(lasso.coef_)\n",
    "beta_hat_lasso_positive_sklearn = list(lasso_positive.coef_)"
   ]
  },
  {
   "cell_type": "code",
   "execution_count": null,
   "metadata": {
    "cell_id": "e695b55e-4208-440c-b56a-256364c9962e",
    "deepnote_cell_height": 66,
    "deepnote_cell_type": "code",
    "deepnote_to_be_reexecuted": false,
    "execution_millis": 44031202,
    "execution_start": 1647013997548,
    "source_hash": "8118d064",
    "tags": []
   },
   "outputs": [],
   "source": [
    "#Conducting an Example Comparison\n",
    "beta_vector_comparison(beta_hat_scratch, beta_hat_sklearn)"
   ]
  },
  {
   "cell_type": "markdown",
   "metadata": {
    "cell_id": "bec31959-747b-4701-9770-9981b6a99eb7",
    "deepnote_cell_height": 180.78125,
    "deepnote_cell_type": "markdown",
    "tags": []
   },
   "source": [
    "**Solving the partial derivative for B<sub>i</sub>**\n",
    "\n",
    "![title](figures/least_squares_partial.png)\n",
    "\n",
    "**Note: We will decompose this further in the following cells.**"
   ]
  },
  {
   "cell_type": "code",
   "execution_count": null,
   "metadata": {
    "cell_id": "7215cf5d-af5e-4211-9a88-2ba0d1f41b06",
    "deepnote_cell_height": 315,
    "deepnote_cell_type": "code",
    "deepnote_to_be_reexecuted": false,
    "execution_millis": 44031191,
    "execution_start": 1647013997582,
    "source_hash": "72ad3b06",
    "tags": []
   },
   "outputs": [],
   "source": [
    "#Computing the Partial\n",
    "\n",
    "# INPUTS\n",
    "\n",
    "#   b_hat_scratch: A vector of coefficient values corresponding the X matrix produced by the least squares solution function\n",
    "#   \n",
    "\n",
    "# OUTPUTS\n",
    "\n",
    "#   The ith beta corresponding to the partial derivative\n",
    "\n",
    "def compute_partial_derivative(b_hat_scratch, i):\n",
    "\n",
    "    return b_hat_scratch[i - 1]"
   ]
  },
  {
   "cell_type": "markdown",
   "metadata": {
    "cell_id": "88523a8b-cb01-4dd2-9498-59b84f227ffc",
    "deepnote_cell_height": 52.390625,
    "deepnote_cell_type": "markdown",
    "tags": []
   },
   "source": [
    "Computing the the beta coefficient for variable x<sub>4</sub>."
   ]
  },
  {
   "cell_type": "code",
   "execution_count": null,
   "metadata": {
    "cell_id": "5e9b2e0e-ce25-4617-8944-2f4b9a4e2b30",
    "deepnote_cell_height": 112.1875,
    "deepnote_cell_type": "code",
    "deepnote_to_be_reexecuted": false,
    "execution_millis": 44031155,
    "execution_start": 1647013997633,
    "source_hash": "c9a8f135",
    "tags": []
   },
   "outputs": [],
   "source": [
    "print(\"Beta Coefficient for x_4:\",compute_partial_derivative(beta_hat_scratch, 4))"
   ]
  },
  {
   "cell_type": "markdown",
   "metadata": {
    "cell_id": "4aa1462d-1fc4-4df6-97eb-da32d316d8c9",
    "deepnote_cell_height": 62,
    "deepnote_cell_type": "text-cell-h3",
    "is_collapsed": false,
    "tags": []
   },
   "source": [
    "### Coordinate Descent"
   ]
  },
  {
   "cell_type": "markdown",
   "metadata": {
    "cell_id": "26943d1e-a2ff-4af4-bab0-8d4fb14877b8",
    "deepnote_cell_height": 285.171875,
    "deepnote_cell_type": "markdown",
    "tags": []
   },
   "source": [
    "**Coordinate Descent**\n",
    "\n",
    "First, let us decompose the traditional least squares solution further by verifying the following:\n",
    "\n",
    "![title](figures/Least_Squares_Update.png)"
   ]
  },
  {
   "cell_type": "code",
   "execution_count": null,
   "metadata": {
    "cell_id": "425dd47e-4830-499c-a76d-2672549d5c10",
    "deepnote_cell_height": 66,
    "deepnote_cell_type": "code",
    "deepnote_to_be_reexecuted": false,
    "execution_millis": 44031168,
    "execution_start": 1647013997634,
    "source_hash": "843453f9",
    "tags": []
   },
   "outputs": [],
   "source": [
    "# INPUTS\n",
    "\n",
    "#   n: The length of the beta vector\n",
    "\n",
    "# OUTPUTS\n",
    "\n",
    "#   betas: A 1xn vector of beta values from the uniform distribution\n",
    "\n",
    "def initialize_betas(n):\n",
    "\n",
    "    betas = np.random.uniform(0,1,n)\n",
    "    return betas"
   ]
  },
  {
   "cell_type": "code",
   "execution_count": null,
   "metadata": {
    "cell_id": "ea925796-47ed-476c-9b03-dd62d792bf2b",
    "deepnote_cell_height": 66,
    "deepnote_cell_type": "code",
    "deepnote_to_be_reexecuted": false,
    "execution_millis": 44031174,
    "execution_start": 1647013997634,
    "source_hash": "5cee069e",
    "tags": []
   },
   "outputs": [],
   "source": [
    "# INPUTS\n",
    "\n",
    "#   betas: A vector of current beta values\n",
    "#   y_data: A vector of target values corresponding the X matrix\n",
    "#   x_data: A matrix of variable values from the generated data\n",
    "#   i_column: The index of the column to remove from the x_data matrix and optimze the beta\n",
    "\n",
    "# OUTPUTS\n",
    "\n",
    "#   beta_update: The new beta value for the i-th element of the beta vector\n",
    "\n",
    "def update_rule(betas, y_data, x_data, i_column):\n",
    "\n",
    "    Xi = x_data[:,i_column]\n",
    "    X_i = np.delete(x_data, i_column, axis = 1)\n",
    "    betas_i = np.delete(betas, i_column)\n",
    "   \n",
    "    numerator_update = np.dot(Xi.T, (y- np.dot(X_i, betas_i)))\n",
    "    denominator_update = np.dot(Xi.T, Xi)\n",
    "\n",
    "    beta_update = numerator_update / denominator_update\n",
    "\n",
    "    return beta_update"
   ]
  },
  {
   "cell_type": "code",
   "execution_count": null,
   "metadata": {
    "cell_id": "4b606ac0-f397-4e88-84a4-cb000e521dfc",
    "deepnote_cell_height": 66,
    "deepnote_cell_type": "code",
    "deepnote_to_be_reexecuted": false,
    "execution_millis": 6,
    "execution_start": 1647013997674,
    "source_hash": "7a972b10",
    "tags": []
   },
   "outputs": [],
   "source": [
    "# INPUTS\n",
    "\n",
    "#   current_beta: The current beta value\n",
    "#   previous_beta: The prior beta value\n",
    "\n",
    "# OUTPUTS\n",
    "\n",
    "#   converged_flag: Boolean flag indicating if the current_beta and previous_beta values have converged\n",
    "\n",
    "def convergence(current_beta, previous_beta):\n",
    "\n",
    "    converged_flag = True\n",
    "    for i in range(len(current_beta)):\n",
    "        if(np.abs(current_beta[i] - previous_beta[i]) > 1e-12):\n",
    "\n",
    "            converged_flag = False\n",
    "            print(\"_Failed to Converge_\")\n",
    "            return converged_flag\n",
    "    \n",
    "    if(converged_flag):\n",
    "        \n",
    "        print(\"_Converged_\")\n",
    "        return converged_flag"
   ]
  },
  {
   "cell_type": "code",
   "execution_count": null,
   "metadata": {
    "cell_id": "497b896b-d6bf-43ef-a989-f9cc059a0190",
    "deepnote_cell_height": 66,
    "deepnote_cell_type": "code",
    "deepnote_to_be_reexecuted": false,
    "execution_millis": 44031214,
    "execution_start": 1647013997675,
    "source_hash": "8915fd79",
    "tags": []
   },
   "outputs": [],
   "source": [
    "# INPUTS\n",
    "\n",
    "#   current_beta: The current beta value\n",
    "#   previous_beta: The prior beta value\n",
    "\n",
    "def abs_difference(current_beta, previous_beta):\n",
    "\n",
    "    length = len(current_beta)\n",
    "    sums = 0\n",
    "\n",
    "    for i in range(len(current_beta)):\n",
    "        sums += np.abs(current_beta[i] - previous_beta[i])\n",
    "    \n",
    "    print(\"_Average Absoltute Beta Difference_\", sums/length)"
   ]
  },
  {
   "cell_type": "markdown",
   "metadata": {
    "cell_id": "64fd6672-2df2-4c61-bf32-f35c1d26c21b",
    "deepnote_cell_height": 37,
    "deepnote_cell_type": "markdown",
    "tags": []
   },
   "source": [
    "**Solving the Lasso Solution**\n",
    "\n",
    "The second term of the lasso objective function is non-differentiable; however, with the sub-gradient, we can achieve the following for optimization:\n",
    "\n",
    "![title](figures/Lasso_Solution.png)\n"
   ]
  },
  {
   "cell_type": "code",
   "execution_count": null,
   "metadata": {
    "cell_id": "6dc6bd41-700d-4f2b-b4c2-465d2d2b0a4b",
    "deepnote_cell_height": 66,
    "deepnote_cell_type": "code",
    "deepnote_to_be_reexecuted": false,
    "execution_millis": 44031200,
    "execution_start": 1647013997676,
    "source_hash": "c6637ef4",
    "tags": []
   },
   "outputs": [],
   "source": [
    "# INPUTS\n",
    "\n",
    "#   alpha: The Lasso alpha value\n",
    "#   i_column: The index of the column to remove from the x_data matrix and optimze the beta\n",
    "#   x_data: A matrix of variable values from the generated data\n",
    "#   y_data: A vector of target values corresponding the X matrix\n",
    "#   betas: A vector of current beta values\n",
    "\n",
    "# OUTPUTS\n",
    "\n",
    "#   The beta value for Lasso with  thresholding applied\n",
    "\n",
    "def lasso_solver(alpha, i_column, x_data, y_data, betas):\n",
    "\n",
    "    Xi = x_data[:,i_column]\n",
    "    non_differentiable = alpha / norm(Xi)**2\n",
    "\n",
    "    g = update_rule(betas, y_data, x_data, i_column)\n",
    "\n",
    "    if(g < - non_differentiable):\n",
    "        return g + non_differentiable\n",
    "    \n",
    "    elif(g > non_differentiable):\n",
    "        return g - non_differentiable\n",
    "    \n",
    "    else:\n",
    "        return 0"
   ]
  },
  {
   "cell_type": "code",
   "execution_count": null,
   "metadata": {
    "cell_id": "87b080de-8bc3-4acf-a5fb-e6f4604d535b",
    "deepnote_cell_height": 66,
    "deepnote_cell_type": "code",
    "deepnote_to_be_reexecuted": false,
    "execution_millis": 3,
    "execution_start": 1647013997685,
    "source_hash": "671c981a",
    "tags": []
   },
   "outputs": [],
   "source": [
    "# INPUTS\n",
    "\n",
    "#   x_data: A matrix of variable values from the generated data\n",
    "#   y_data: A vector of target values corresponding the X matrix\n",
    "#   betas: A vector of current beta values\n",
    "#   lasso_flag: A boolean to indicate whether the function should apply Lasso (true) or least squares (false)\n",
    "#   positive_flag: A boolean to indicate whether the function should disallow negative beta values in the model (will be floored to zero)\n",
    "#   alpha: The Lasso alpha value\n",
    "#   num_iter: The maximum number of iterations to attempt convergence\n",
    "\n",
    "# OUTPUTS\n",
    "\n",
    "#   Optimized Betas or Increase Iter message\n",
    "\n",
    "def coordinate_descent(x_data, y_data, betas, lasso_flag, positive_flag, alpha, num_iter):\n",
    "\n",
    "    _betas = betas #initialized betas\n",
    "    previous_betas = list(betas) #initiaized betas that will be used to retreive previous iteration\n",
    "    print(\"_Coordinate Descent Optimization_\\n\", \"_Lasso_ -> \" + str(lasso_flag), \"| _Positive Solution_ -> \" + str(positive_flag))\n",
    "    for i in range(num_iter): #Iterating over our num_iter\n",
    "        print(\"========================================================================\")\n",
    "        print(\"Iteration:\", i+1)\n",
    "        \n",
    "        for j in range(len(_betas)): #Iterating over the beta vector\n",
    "            \n",
    "            if(not lasso_flag and not positive_flag): #Least Squares Solution\n",
    "                _betas[j] = update_rule(_betas, y_data, x_data, j) #Calling the update rule function\n",
    "                \n",
    "            elif(not lasso_flag and positive_flag): #Least Squares Positive Solution\n",
    "                if(update_rule(_betas, y_data, x_data, j) < 0): #If Negative Update, set it to zero\n",
    "                    _betas[j] = 0\n",
    "                else:\n",
    "                    _betas[j] = update_rule(_betas, y_data, x_data, j) #Non-Negative Update\n",
    "\n",
    "            elif(lasso_flag and not positive_flag): #Lasso Solution\n",
    "                _betas[j] = lasso_solver(alpha, j, x_data, y_data, _betas) #Lasso solver for differentiable and sugbradient\n",
    "\n",
    "            else:\n",
    "                if(lasso_solver(alpha, j, x_data, y_data, _betas) < 0): #Lasso Positive solver\n",
    "                    _betas[j] = 0\n",
    "                else:\n",
    "                    _betas[j] = lasso_solver(alpha, j, x_data, y_data, _betas) #Non-Negative Update\n",
    "\n",
    "        convergence_check = convergence(_betas, previous_betas) #Check to see if we converge\n",
    "\n",
    "        if(convergence_check): #If converged we are finished - print the results and return our optimized betas\n",
    "            print(\"Optimized Betas:\")\n",
    "            print(_betas)\n",
    "            print(\"\\n_Optimization Finished_\")\n",
    "            return _betas\n",
    "        \n",
    "        else: #Continue the loop and set the previous betas to our current betas and return to the loop\n",
    "            abs_difference(_betas, previous_betas)\n",
    "            previous_betas = list(_betas)\n",
    "            \n",
    "    if(not convergence_check): #Let the user know we need to set more iterations for a potential convergence\n",
    "        print(\"\\nIterations Provided Failed to Converge. Please Increase your Num. Iterations.\")"
   ]
  },
  {
   "cell_type": "markdown",
   "metadata": {
    "cell_id": "ce97f4ba-c7fc-41ec-af16-e6aea0b06967",
    "deepnote_cell_height": 37,
    "deepnote_cell_type": "markdown",
    "tags": []
   },
   "source": [
    "**Algorithm Performance**\n",
    "\n",
    "Least Squares Coordinate Descent & **Verification** of Least Squares Coordinate Descent."
   ]
  },
  {
   "cell_type": "code",
   "execution_count": null,
   "metadata": {
    "cell_id": "0c67faf4-e212-4ba5-a82f-dbc379110690",
    "deepnote_cell_height": 66,
    "deepnote_cell_type": "code",
    "deepnote_to_be_reexecuted": false,
    "execution_millis": 1,
    "execution_start": 1647013997736,
    "source_hash": "6447473f",
    "tags": []
   },
   "outputs": [],
   "source": [
    "betas = initialize_betas(p)"
   ]
  },
  {
   "cell_type": "code",
   "execution_count": null,
   "metadata": {
    "cell_id": "6abb4e9f-88eb-4b44-bf82-fce675a783e5",
    "deepnote_cell_height": 66,
    "deepnote_cell_type": "code",
    "deepnote_to_be_reexecuted": false,
    "execution_millis": 492,
    "execution_start": 1647013997737,
    "source_hash": "4a946386",
    "tags": []
   },
   "outputs": [],
   "source": [
    "optimized_betas = coordinate_descent(X, y, betas, False, False, 0.1, 250)"
   ]
  },
  {
   "cell_type": "code",
   "execution_count": null,
   "metadata": {
    "cell_id": "a15e73f6-3744-4b48-95f0-85495b0f0557",
    "deepnote_cell_height": 89,
    "deepnote_cell_type": "code",
    "deepnote_to_be_reexecuted": false,
    "execution_millis": 3,
    "execution_start": 1647013998280,
    "source_hash": "74755fcb",
    "tags": []
   },
   "outputs": [],
   "source": [
    "beta_vector_comparison(list(optimized_betas), beta_hat_sklearn)"
   ]
  },
  {
   "cell_type": "markdown",
   "metadata": {
    "cell_id": "47382bca-3d9f-4248-a257-700d367c7651",
    "deepnote_cell_height": 52,
    "deepnote_cell_type": "text-cell-p",
    "is_collapsed": false,
    "tags": []
   },
   "source": [
    "Positive Least Squares Coordinate Descent"
   ]
  },
  {
   "cell_type": "code",
   "execution_count": null,
   "metadata": {
    "cell_id": "5808ff15-a4a7-4991-a4fa-ae9f10de57e2",
    "deepnote_cell_height": 66,
    "deepnote_cell_type": "code",
    "deepnote_to_be_reexecuted": false,
    "execution_millis": 183,
    "execution_start": 1647013998282,
    "source_hash": "f85f74df",
    "tags": []
   },
   "outputs": [],
   "source": [
    "optimized_betas = coordinate_descent(X, y, betas, False, True, 0.1, 250)"
   ]
  },
  {
   "cell_type": "code",
   "execution_count": null,
   "metadata": {
    "cell_id": "ef24ff74-24d3-4294-8a7d-2a0c8f84473c",
    "deepnote_cell_height": 66,
    "deepnote_cell_type": "code",
    "deepnote_to_be_reexecuted": false,
    "execution_millis": 0,
    "execution_start": 1647013998526,
    "source_hash": "d59cb872",
    "tags": []
   },
   "outputs": [],
   "source": [
    "beta_vector_comparison(list(optimized_betas), beta_hat_positive_sklearn)"
   ]
  },
  {
   "cell_type": "markdown",
   "metadata": {
    "cell_id": "6b79abb7-53d6-4b21-baf6-aa529f12fca2",
    "deepnote_cell_height": 37,
    "deepnote_cell_type": "markdown",
    "tags": []
   },
   "source": [
    "**Algorithm Performance**\n",
    "\n",
    "Lasso Coordinate Descent & **Verification** of Lasso Coordinate Descent."
   ]
  },
  {
   "cell_type": "code",
   "execution_count": null,
   "metadata": {
    "cell_id": "3b25a914-d866-43c7-b8cc-5510d45191a1",
    "deepnote_cell_height": 66,
    "deepnote_cell_type": "code",
    "deepnote_to_be_reexecuted": false,
    "execution_millis": 305,
    "execution_start": 1647013998527,
    "source_hash": "bde1c814",
    "tags": []
   },
   "outputs": [],
   "source": [
    "optimized_betas = coordinate_descent(X, y, betas, True, False, 1, 250)"
   ]
  },
  {
   "cell_type": "code",
   "execution_count": null,
   "metadata": {
    "cell_id": "6a20df9f-68fe-4515-9c2d-8c2847c84409",
    "deepnote_cell_height": 66,
    "deepnote_cell_type": "code",
    "deepnote_to_be_reexecuted": false,
    "execution_millis": 2,
    "execution_start": 1647013998884,
    "source_hash": "cd1cdb72",
    "tags": []
   },
   "outputs": [],
   "source": [
    "beta_vector_comparison(list(optimized_betas), beta_hat_lasso_sklearn)"
   ]
  },
  {
   "cell_type": "markdown",
   "metadata": {
    "cell_id": "4fbe6215-eef1-4b8f-95b4-b13e79deeb66",
    "deepnote_cell_height": 52,
    "deepnote_cell_type": "text-cell-p",
    "is_collapsed": false,
    "tags": []
   },
   "source": [
    "Positive Lasso Coordinate Descent"
   ]
  },
  {
   "cell_type": "code",
   "execution_count": null,
   "metadata": {
    "cell_id": "e36a3b3a-a35a-4531-b6b7-4c2ef86bb094",
    "deepnote_cell_height": 66,
    "deepnote_cell_type": "code",
    "deepnote_to_be_reexecuted": false,
    "execution_millis": 245,
    "execution_start": 1647013998885,
    "source_hash": "bd1c8b3c",
    "tags": []
   },
   "outputs": [],
   "source": [
    "optimized_betas = coordinate_descent(X, y, betas, True, True, 1, 250)"
   ]
  },
  {
   "cell_type": "code",
   "execution_count": null,
   "metadata": {
    "cell_id": "40ae4462-af26-4b52-9ed4-1f4bb7495974",
    "deepnote_cell_height": 89,
    "deepnote_cell_type": "code",
    "deepnote_to_be_reexecuted": false,
    "execution_millis": 44031451,
    "execution_start": 1647013999125,
    "source_hash": "dae5210",
    "tags": []
   },
   "outputs": [],
   "source": [
    "beta_vector_comparison(list(optimized_betas), beta_hat_lasso_positive_sklearn)"
   ]
  },
  {
   "cell_type": "markdown",
   "metadata": {
    "cell_id": "b48e4a20-2ab9-4222-864a-6517e1a3f178",
    "deepnote_cell_height": 46,
    "deepnote_cell_type": "markdown",
    "tags": []
   },
   "source": [
    "**Conclusion**\n",
    "\n",
    "All vectors are equivalent for the Lasso and Least Squares solution with respect to our implementation and SK-Learn. Note, we had to round our betas conservatively because there was a case where a select few of the betas were nearly the same but off by a very small margin in the 5th decimal place due to what we believe to be SK-Learn rounding error. Because changing the max iterations and having an extremely strict convergence rule did not change the result for these specific betas, we account this tiny error to rounding issues bewtween our implementation and any rounding that was done in the SK-learn implementation.\n",
    "\n",
    "With that said, the end result is clear from the output above; we obtained convergence and have ~ beta equivalence with SK-Learn."
   ]
  },
  {
   "cell_type": "markdown",
   "metadata": {
    "created_in_deepnote_cell": true,
    "deepnote_cell_type": "markdown",
    "tags": []
   },
   "source": [
    "<a style='text-decoration:none;line-height:16px;display:flex;color:#5B5B62;padding:10px;justify-content:end;' href='https://deepnote.com?utm_source=created-in-deepnote-cell&projectId=697db241-4591-47f8-8614-1bf3891b369f' target=\"_blank\">\n",
    "<img alt='Created in deepnote.com' style='display:inline;max-height:16px;margin:0px;margin-right:7.5px;' src='data:image/svg+xml;base64,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' > </img>\n",
    "Created in <span style='font-weight:600;margin-left:4px;'>Deepnote</span></a>"
   ]
  },
  {
   "cell_type": "code",
   "execution_count": null,
   "metadata": {},
   "outputs": [],
   "source": []
  }
 ],
 "metadata": {
  "deepnote": {
   "is_reactive": false
  },
  "deepnote_execution_queue": [],
  "deepnote_notebook_id": "08e16c00-ca26-4b64-8827-e8e7bc897ff5",
  "kernelspec": {
   "display_name": "Python 3",
   "language": "python",
   "name": "python3"
  },
  "language_info": {
   "codemirror_mode": {
    "name": "ipython",
    "version": 3
   },
   "file_extension": ".py",
   "mimetype": "text/x-python",
   "name": "python",
   "nbconvert_exporter": "python",
   "pygments_lexer": "ipython3",
   "version": "3.8.5"
  }
 },
 "nbformat": 4,
 "nbformat_minor": 4
}
